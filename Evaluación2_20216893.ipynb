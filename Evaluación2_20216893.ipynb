{
 "cells": [
  {
   "cell_type": "markdown",
   "id": "ee5bc096",
   "metadata": {},
   "source": [
    "# Evaluación 2\n",
    "Alumna: Analí Burgos Romani"
   ]
  },
  {
   "cell_type": "markdown",
   "id": "aa3be381",
   "metadata": {},
   "source": [
    "Let's open the maps:"
   ]
  },
  {
   "cell_type": "code",
   "execution_count": 4,
   "id": "f1cb3807",
   "metadata": {},
   "outputs": [],
   "source": [
    "import os, geopandas as gpd\n",
    "\n",
    "countries=gpd.read_file(os.path.join(\"maps\",\"World_Countries\",\"World_Countries.shp\"))\n",
    "rivers=gpd.read_file(os.path.join(\"maps\",\"World_Hydrography\",\"World_Hydrography.shp\"))\n",
    "cities=gpd.read_file(os.path.join(\"maps\",\"World_Cities\",\"World_Cities.shp\"))\n"
   ]
  },
  {
   "cell_type": "markdown",
   "id": "c4bce302",
   "metadata": {},
   "source": [
    "Now, we are going to subset the map, so we obtain only \"Australia\""
   ]
  },
  {
   "cell_type": "code",
   "execution_count": 5,
   "id": "69c95dbd",
   "metadata": {},
   "outputs": [
    {
     "data": {
      "text/html": [
       "<div>\n",
       "<style scoped>\n",
       "    .dataframe tbody tr th:only-of-type {\n",
       "        vertical-align: middle;\n",
       "    }\n",
       "\n",
       "    .dataframe tbody tr th {\n",
       "        vertical-align: top;\n",
       "    }\n",
       "\n",
       "    .dataframe thead th {\n",
       "        text-align: right;\n",
       "    }\n",
       "</style>\n",
       "<table border=\"1\" class=\"dataframe\">\n",
       "  <thead>\n",
       "    <tr style=\"text-align: right;\">\n",
       "      <th></th>\n",
       "      <th>COUNTRY</th>\n",
       "      <th>geometry</th>\n",
       "    </tr>\n",
       "  </thead>\n",
       "  <tbody>\n",
       "    <tr>\n",
       "      <th>0</th>\n",
       "      <td>Aruba (Netherlands)</td>\n",
       "      <td>POLYGON ((-69.88223 12.41111, -69.94695 12.436...</td>\n",
       "    </tr>\n",
       "    <tr>\n",
       "      <th>1</th>\n",
       "      <td>Antigua and Barbuda</td>\n",
       "      <td>MULTIPOLYGON (((-61.73889 17.54055, -61.75195 ...</td>\n",
       "    </tr>\n",
       "    <tr>\n",
       "      <th>2</th>\n",
       "      <td>Afghanistan</td>\n",
       "      <td>POLYGON ((61.27656 35.60725, 61.29638 35.62853...</td>\n",
       "    </tr>\n",
       "    <tr>\n",
       "      <th>3</th>\n",
       "      <td>Algeria</td>\n",
       "      <td>POLYGON ((-5.15213 30.18047, -5.13917 30.19236...</td>\n",
       "    </tr>\n",
       "    <tr>\n",
       "      <th>4</th>\n",
       "      <td>Azerbaijan</td>\n",
       "      <td>MULTIPOLYGON (((46.54037 38.87559, 46.49554 38...</td>\n",
       "    </tr>\n",
       "    <tr>\n",
       "      <th>5</th>\n",
       "      <td>Albania</td>\n",
       "      <td>POLYGON ((20.79192 40.43154, 20.78722 40.39472...</td>\n",
       "    </tr>\n",
       "    <tr>\n",
       "      <th>6</th>\n",
       "      <td>Armenia</td>\n",
       "      <td>MULTIPOLYGON (((46.54037 38.87559, 46.51639 38...</td>\n",
       "    </tr>\n",
       "    <tr>\n",
       "      <th>7</th>\n",
       "      <td>Andorra</td>\n",
       "      <td>POLYGON ((1.44583 42.60194, 1.48653 42.65041, ...</td>\n",
       "    </tr>\n",
       "    <tr>\n",
       "      <th>8</th>\n",
       "      <td>Angola</td>\n",
       "      <td>MULTIPOLYGON (((13.09139 -4.63306, 13.09264 -4...</td>\n",
       "    </tr>\n",
       "    <tr>\n",
       "      <th>9</th>\n",
       "      <td>American Samoa (US)</td>\n",
       "      <td>POLYGON ((-170.74390 -14.37556, -170.74942 -14...</td>\n",
       "    </tr>\n",
       "    <tr>\n",
       "      <th>10</th>\n",
       "      <td>Argentina</td>\n",
       "      <td>MULTIPOLYGON (((-71.01648 -36.47591, -70.98195...</td>\n",
       "    </tr>\n",
       "    <tr>\n",
       "      <th>11</th>\n",
       "      <td>Australia</td>\n",
       "      <td>MULTIPOLYGON (((142.27997 -10.26556, 142.21053...</td>\n",
       "    </tr>\n",
       "    <tr>\n",
       "      <th>12</th>\n",
       "      <td>Austria</td>\n",
       "      <td>POLYGON ((10.47124 46.87135, 10.48821 46.93599...</td>\n",
       "    </tr>\n",
       "    <tr>\n",
       "      <th>13</th>\n",
       "      <td>Anguilla (UK)</td>\n",
       "      <td>POLYGON ((-63.16778 18.16444, -63.15695 18.177...</td>\n",
       "    </tr>\n",
       "    <tr>\n",
       "      <th>14</th>\n",
       "      <td>Antarctica</td>\n",
       "      <td>MULTIPOLYGON (((-45.14528 -60.76611, -45.15639...</td>\n",
       "    </tr>\n",
       "  </tbody>\n",
       "</table>\n",
       "</div>"
      ],
      "text/plain": [
       "                COUNTRY                                           geometry\n",
       "0   Aruba (Netherlands)  POLYGON ((-69.88223 12.41111, -69.94695 12.436...\n",
       "1   Antigua and Barbuda  MULTIPOLYGON (((-61.73889 17.54055, -61.75195 ...\n",
       "2           Afghanistan  POLYGON ((61.27656 35.60725, 61.29638 35.62853...\n",
       "3               Algeria  POLYGON ((-5.15213 30.18047, -5.13917 30.19236...\n",
       "4            Azerbaijan  MULTIPOLYGON (((46.54037 38.87559, 46.49554 38...\n",
       "5               Albania  POLYGON ((20.79192 40.43154, 20.78722 40.39472...\n",
       "6               Armenia  MULTIPOLYGON (((46.54037 38.87559, 46.51639 38...\n",
       "7               Andorra  POLYGON ((1.44583 42.60194, 1.48653 42.65041, ...\n",
       "8                Angola  MULTIPOLYGON (((13.09139 -4.63306, 13.09264 -4...\n",
       "9   American Samoa (US)  POLYGON ((-170.74390 -14.37556, -170.74942 -14...\n",
       "10            Argentina  MULTIPOLYGON (((-71.01648 -36.47591, -70.98195...\n",
       "11            Australia  MULTIPOLYGON (((142.27997 -10.26556, 142.21053...\n",
       "12              Austria  POLYGON ((10.47124 46.87135, 10.48821 46.93599...\n",
       "13        Anguilla (UK)  POLYGON ((-63.16778 18.16444, -63.15695 18.177...\n",
       "14           Antarctica  MULTIPOLYGON (((-45.14528 -60.76611, -45.15639..."
      ]
     },
     "execution_count": 5,
     "metadata": {},
     "output_type": "execute_result"
    }
   ],
   "source": [
    "# let's check some content\n",
    "countries.head(15)"
   ]
  },
  {
   "cell_type": "code",
   "execution_count": 6,
   "id": "ec314cdf",
   "metadata": {},
   "outputs": [],
   "source": [
    "australia=countries[countries.COUNTRY=='Australia']"
   ]
  },
  {
   "cell_type": "markdown",
   "id": "134eda71",
   "metadata": {},
   "source": [
    "Now, we can plot the sub map corresponding to \"Australia\""
   ]
  },
  {
   "cell_type": "code",
   "execution_count": 7,
   "id": "28760482",
   "metadata": {},
   "outputs": [
    {
     "data": {
      "text/plain": [
       "<Axes: >"
      ]
     },
     "execution_count": 7,
     "metadata": {},
     "output_type": "execute_result"
    },
    {
     "data": {
      "image/png": "[encoded data removed]",
      "text/plain": [
       "<Figure size 640x480 with 1 Axes>"
      ]
     },
     "metadata": {},
     "output_type": "display_data"
    }
   ],
   "source": [
    "australia.plot()"
   ]
  },
  {
   "cell_type": "markdown",
   "id": "8a911446",
   "metadata": {},
   "source": [
    "Now, see details on the cities: "
   ]
  },
  {
   "cell_type": "code",
   "execution_count": 8,
   "id": "5f07a567",
   "metadata": {},
   "outputs": [
    {
     "data": {
      "text/html": [
       "<div>\n",
       "<style scoped>\n",
       "    .dataframe tbody tr th:only-of-type {\n",
       "        vertical-align: middle;\n",
       "    }\n",
       "\n",
       "    .dataframe tbody tr th {\n",
       "        vertical-align: top;\n",
       "    }\n",
       "\n",
       "    .dataframe thead th {\n",
       "        text-align: right;\n",
       "    }\n",
       "</style>\n",
       "<table border=\"1\" class=\"dataframe\">\n",
       "  <thead>\n",
       "    <tr style=\"text-align: right;\">\n",
       "      <th></th>\n",
       "      <th>NAME</th>\n",
       "      <th>COUNTRY</th>\n",
       "      <th>CAPITAL</th>\n",
       "      <th>geometry</th>\n",
       "    </tr>\n",
       "  </thead>\n",
       "  <tbody>\n",
       "    <tr>\n",
       "      <th>0</th>\n",
       "      <td>Murmansk</td>\n",
       "      <td>Russia</td>\n",
       "      <td>N</td>\n",
       "      <td>POINT (33.08604 68.96355)</td>\n",
       "    </tr>\n",
       "    <tr>\n",
       "      <th>1</th>\n",
       "      <td>Arkhangelsk</td>\n",
       "      <td>Russia</td>\n",
       "      <td>N</td>\n",
       "      <td>POINT (40.64616 64.52067)</td>\n",
       "    </tr>\n",
       "    <tr>\n",
       "      <th>2</th>\n",
       "      <td>Saint Petersburg</td>\n",
       "      <td>Russia</td>\n",
       "      <td>N</td>\n",
       "      <td>POINT (30.45333 59.95189)</td>\n",
       "    </tr>\n",
       "    <tr>\n",
       "      <th>3</th>\n",
       "      <td>Magadan</td>\n",
       "      <td>Russia</td>\n",
       "      <td>N</td>\n",
       "      <td>POINT (150.78001 59.57100)</td>\n",
       "    </tr>\n",
       "    <tr>\n",
       "      <th>4</th>\n",
       "      <td>Perm'</td>\n",
       "      <td>Russia</td>\n",
       "      <td>N</td>\n",
       "      <td>POINT (56.23246 58.00024)</td>\n",
       "    </tr>\n",
       "  </tbody>\n",
       "</table>\n",
       "</div>"
      ],
      "text/plain": [
       "               NAME COUNTRY CAPITAL                    geometry\n",
       "0          Murmansk  Russia       N   POINT (33.08604 68.96355)\n",
       "1       Arkhangelsk  Russia       N   POINT (40.64616 64.52067)\n",
       "2  Saint Petersburg  Russia       N   POINT (30.45333 59.95189)\n",
       "3           Magadan  Russia       N  POINT (150.78001 59.57100)\n",
       "4             Perm'  Russia       N   POINT (56.23246 58.00024)"
      ]
     },
     "execution_count": 8,
     "metadata": {},
     "output_type": "execute_result"
    }
   ],
   "source": [
    "#Let's check for details on cities\n",
    "cities.head()"
   ]
  },
  {
   "cell_type": "code",
   "execution_count": 9,
   "id": "f4200e25",
   "metadata": {},
   "outputs": [
    {
     "data": {
      "text/plain": [
       "<Axes: >"
      ]
     },
     "execution_count": 9,
     "metadata": {},
     "output_type": "execute_result"
    },
    {
     "data": {
      "image/png": "[encoded data removed]",
      "text/plain": [
       "<Figure size 640x480 with 1 Axes>"
      ]
     },
     "metadata": {},
     "output_type": "display_data"
    }
   ],
   "source": [
    "cities_australia=cities[cities.COUNTRY=='Australia']\n",
    "\n",
    "#we can see the plot of Australia's cities\n",
    "cities_australia.plot()"
   ]
  },
  {
   "cell_type": "markdown",
   "id": "ae34683b",
   "metadata": {},
   "source": [
    "Now, let's look at the rivers: "
   ]
  },
  {
   "cell_type": "code",
   "execution_count": 10,
   "id": "fa30bed8",
   "metadata": {
    "scrolled": true
   },
   "outputs": [
    {
     "data": {
      "text/html": [
       "<div>\n",
       "<style scoped>\n",
       "    .dataframe tbody tr th:only-of-type {\n",
       "        vertical-align: middle;\n",
       "    }\n",
       "\n",
       "    .dataframe tbody tr th {\n",
       "        vertical-align: top;\n",
       "    }\n",
       "\n",
       "    .dataframe thead th {\n",
       "        text-align: right;\n",
       "    }\n",
       "</style>\n",
       "<table border=\"1\" class=\"dataframe\">\n",
       "  <thead>\n",
       "    <tr style=\"text-align: right;\">\n",
       "      <th></th>\n",
       "      <th>NAME</th>\n",
       "      <th>SYSTEM</th>\n",
       "      <th>geometry</th>\n",
       "    </tr>\n",
       "  </thead>\n",
       "  <tbody>\n",
       "    <tr>\n",
       "      <th>0</th>\n",
       "      <td>Aldan</td>\n",
       "      <td>Lena</td>\n",
       "      <td>LINESTRING (124.00678 56.47258, 123.25956 56.6...</td>\n",
       "    </tr>\n",
       "    <tr>\n",
       "      <th>1</th>\n",
       "      <td>Amazon</td>\n",
       "      <td>Amazon</td>\n",
       "      <td>MULTILINESTRING ((-61.27730 -3.60706, -60.6846...</td>\n",
       "    </tr>\n",
       "    <tr>\n",
       "      <th>2</th>\n",
       "      <td>Amu Darya</td>\n",
       "      <td>None</td>\n",
       "      <td>LINESTRING (73.98818 37.49952, 73.52595 37.528...</td>\n",
       "    </tr>\n",
       "    <tr>\n",
       "      <th>3</th>\n",
       "      <td>Amur</td>\n",
       "      <td>None</td>\n",
       "      <td>LINESTRING (122.63956 49.99730, 120.47874 49.2...</td>\n",
       "    </tr>\n",
       "    <tr>\n",
       "      <th>4</th>\n",
       "      <td>Angara</td>\n",
       "      <td>None</td>\n",
       "      <td>LINESTRING (105.07841 51.93053, 103.92959 51.7...</td>\n",
       "    </tr>\n",
       "  </tbody>\n",
       "</table>\n",
       "</div>"
      ],
      "text/plain": [
       "        NAME  SYSTEM                                           geometry\n",
       "0      Aldan    Lena  LINESTRING (124.00678 56.47258, 123.25956 56.6...\n",
       "1     Amazon  Amazon  MULTILINESTRING ((-61.27730 -3.60706, -60.6846...\n",
       "2  Amu Darya    None  LINESTRING (73.98818 37.49952, 73.52595 37.528...\n",
       "3       Amur    None  LINESTRING (122.63956 49.99730, 120.47874 49.2...\n",
       "4     Angara    None  LINESTRING (105.07841 51.93053, 103.92959 51.7..."
      ]
     },
     "execution_count": 10,
     "metadata": {},
     "output_type": "execute_result"
    }
   ],
   "source": [
    "rivers.head()"
   ]
  },
  {
   "cell_type": "markdown",
   "id": "b637825e",
   "metadata": {},
   "source": [
    "But for the rivers we are using **clipping**: "
   ]
  },
  {
   "cell_type": "code",
   "execution_count": 11,
   "id": "cb7d7310",
   "metadata": {},
   "outputs": [
    {
     "data": {
      "text/plain": [
       "<Axes: >"
      ]
     },
     "execution_count": 11,
     "metadata": {},
     "output_type": "execute_result"
    },
    {
     "data": {
      "image/png": "[encoded data removed]",
      "text/plain": [
       "<Figure size 640x480 with 1 Axes>"
      ]
     },
     "metadata": {},
     "output_type": "display_data"
    }
   ],
   "source": [
    "rivers_australia=gpd.clip(gdf=rivers,\n",
    "                         mask=australia)\n",
    "#let's see it\n",
    "rivers_australia.plot()"
   ]
  },
  {
   "cell_type": "markdown",
   "id": "ff13de60",
   "metadata": {},
   "source": [
    "Now, we can plot the clipped version:"
   ]
  },
  {
   "cell_type": "code",
   "execution_count": 12,
   "id": "28cc3c31",
   "metadata": {},
   "outputs": [
    {
     "data": {
      "text/plain": [
       "<Axes: >"
      ]
     },
     "execution_count": 12,
     "metadata": {},
     "output_type": "execute_result"
    },
    {
     "data": {
      "image/png": "[encoded data removed]",
      "text/plain": [
       "<Figure size 500x500 with 1 Axes>"
      ]
     },
     "metadata": {},
     "output_type": "display_data"
    }
   ],
   "source": [
    "base = australia.plot(facecolor=\"lightblue\", edgecolor='black', linewidth=0.4,figsize=(5,5))\n",
    "cities_australia.plot(marker='+', color='red', markersize=15,ax=base)\n",
    "rivers_australia.plot(edgecolor='darkblue', linewidth=0.5,ax=base)"
   ]
  },
  {
   "cell_type": "markdown",
   "id": "bde4368f",
   "metadata": {},
   "source": [
    "The interactive alterntative for this last case could require the **folium** map to a particular coordinate. Let's fin the one for Australia in: https://www.geodatos.net/en/coordinates:"
   ]
  },
  {
   "cell_type": "code",
   "execution_count": 13,
   "id": "6f9804d4",
   "metadata": {},
   "outputs": [],
   "source": [
    "australiaCoord=[-25.274398, 133.775136]"
   ]
  },
  {
   "cell_type": "code",
   "execution_count": 14,
   "id": "1608cd4d",
   "metadata": {
    "scrolled": true
   },
   "outputs": [
    {
     "data": {
      "text/html": [
       "<div style=\"width:100%;\"><div style=\"position:relative;width:100%;height:0;padding-bottom:60%;\"><span style=\"color:#565656\">Make this Notebook Trusted to load map: File -> Trust Notebook</span><iframe srcdoc=\"&lt;!DOCTYPE html&gt;\n",
       "&lt;html&gt;\n",
       "&lt;head&gt;\n",
       "    \n",
       "    &lt;meta http-equiv=&quot;content-type&quot; content=&quot;text/html; charset=UTF-8&quot; /&gt;\n",
       "    \n",
       "        &lt;script&gt;\n",
       "            L_NO_TOUCH = false;\n",
       "            L_DISABLE_3D = false;\n",
       "        &lt;/script&gt;\n",
       "    \n",
       "    &lt;style&gt;html, body {width: 100%;height: 100%;margin: 0;padding: 0;}&lt;/style&gt;\n",
       "    &lt;style&gt;#map {position:absolute;top:0;bottom:0;right:0;left:0;}&lt;/style&gt;\n",
       "    &lt;script src=&quot;https://cdn.jsdelivr.net/npm/leaflet@1.9.3/dist/leaflet.js&quot;&gt;&lt;/script&gt;\n",
       "    &lt;script src=&quot;https://code.jquery.com/jquery-1.12.4.min.js&quot;&gt;&lt;/script&gt;\n",
       "    &lt;script src=&quot;https://cdn.jsdelivr.net/npm/bootstrap@5.2.2/dist/js/bootstrap.bundle.min.js&quot;&gt;&lt;/script&gt;\n",
       "    &lt;script src=&quot;https://cdnjs.cloudflare.com/ajax/libs/Leaflet.awesome-markers/2.0.2/leaflet.awesome-markers.js&quot;&gt;&lt;/script&gt;\n",
       "    &lt;link rel=&quot;stylesheet&quot; href=&quot;https://cdn.jsdelivr.net/npm/leaflet@1.9.3/dist/leaflet.css&quot;/&gt;\n",
       "    &lt;link rel=&quot;stylesheet&quot; href=&quot;https://cdn.jsdelivr.net/npm/bootstrap@5.2.2/dist/css/bootstrap.min.css&quot;/&gt;\n",
       "    &lt;link rel=&quot;stylesheet&quot; href=&quot;https://netdna.bootstrapcdn.com/bootstrap/3.0.0/css/bootstrap.min.css&quot;/&gt;\n",
       "    &lt;link rel=&quot;stylesheet&quot; href=&quot;https://cdn.jsdelivr.net/npm/@fortawesome/fontawesome-free@6.2.0/css/all.min.css&quot;/&gt;\n",
       "    &lt;link rel=&quot;stylesheet&quot; href=&quot;https://cdnjs.cloudflare.com/ajax/libs/Leaflet.awesome-markers/2.0.2/leaflet.awesome-markers.css&quot;/&gt;\n",
       "    &lt;link rel=&quot;stylesheet&quot; href=&quot;https://cdn.jsdelivr.net/gh/python-visualization/folium/folium/templates/leaflet.awesome.rotate.min.css&quot;/&gt;\n",
       "    \n",
       "            &lt;meta name=&quot;viewport&quot; content=&quot;width=device-width,\n",
       "                initial-scale=1.0, maximum-scale=1.0, user-scalable=no&quot; /&gt;\n",
       "            &lt;style&gt;\n",
       "                #map_5cc870b0e24d6052f12bb8dffc72ec7b {\n",
       "                    position: relative;\n",
       "                    width: 100.0%;\n",
       "                    height: 100.0%;\n",
       "                    left: 0.0%;\n",
       "                    top: 0.0%;\n",
       "                }\n",
       "                .leaflet-container { font-size: 1rem; }\n",
       "            &lt;/style&gt;\n",
       "        \n",
       "    \n",
       "                    &lt;style&gt;\n",
       "                        .foliumtooltip {\n",
       "                            \n",
       "                        }\n",
       "                       .foliumtooltip table{\n",
       "                            margin: auto;\n",
       "                        }\n",
       "                        .foliumtooltip tr{\n",
       "                            text-align: left;\n",
       "                        }\n",
       "                        .foliumtooltip th{\n",
       "                            padding: 2px; padding-right: 8px;\n",
       "                        }\n",
       "                    &lt;/style&gt;\n",
       "            \n",
       "    \n",
       "                    &lt;style&gt;\n",
       "                        .foliumtooltip {\n",
       "                            \n",
       "                        }\n",
       "                       .foliumtooltip table{\n",
       "                            margin: auto;\n",
       "                        }\n",
       "                        .foliumtooltip tr{\n",
       "                            text-align: left;\n",
       "                        }\n",
       "                        .foliumtooltip th{\n",
       "                            padding: 2px; padding-right: 8px;\n",
       "                        }\n",
       "                    &lt;/style&gt;\n",
       "            \n",
       "&lt;/head&gt;\n",
       "&lt;body&gt;\n",
       "    \n",
       "    \n",
       "            &lt;div class=&quot;folium-map&quot; id=&quot;map_5cc870b0e24d6052f12bb8dffc72ec7b&quot; &gt;&lt;/div&gt;\n",
       "        \n",
       "&lt;/body&gt;\n",
       "&lt;script&gt;\n",
       "    \n",
       "    \n",
       "            var map_5cc870b0e24d6052f12bb8dffc72ec7b = L.map(\n",
       "                &quot;map_5cc870b0e24d6052f12bb8dffc72ec7b&quot;,\n",
       "                {\n",
       "                    center: [-25.274398, 133.775136],\n",
       "                    crs: L.CRS.EPSG3857,\n",
       "                    zoom: 4,\n",
       "                    zoomControl: true,\n",
       "                    preferCanvas: false,\n",
       "                }\n",
       "            );\n",
       "            L.control.scale().addTo(map_5cc870b0e24d6052f12bb8dffc72ec7b);\n",
       "\n",
       "            \n",
       "\n",
       "        \n",
       "    \n",
       "            var tile_layer_ebc112891f214e94f9a8115d0de0d0dd = L.tileLayer(\n",
       "                &quot;https://a.basemaps.cartocdn.com/light_all/{z}/{x}/{y}{r}.png&quot;,\n",
       "                {&quot;attribution&quot;: &quot;\\u0026copy; \\u003ca href=\\&quot;https://www.openstreetmap.org/copyright\\&quot;\\u003eOpenStreetMap\\u003c/a\\u003e contributors \\u0026copy; \\u003ca href=\\&quot;https://carto.com/attributions\\&quot;\\u003eCARTO\\u003c/a\\u003e&quot;, &quot;detectRetina&quot;: false, &quot;maxNativeZoom&quot;: 20, &quot;maxZoom&quot;: 20, &quot;minZoom&quot;: 0, &quot;noWrap&quot;: false, &quot;opacity&quot;: 1, &quot;subdomains&quot;: &quot;abc&quot;, &quot;tms&quot;: false}\n",
       "            ).addTo(map_5cc870b0e24d6052f12bb8dffc72ec7b);\n",
       "        \n",
       "    \n",
       "        function geo_json_dc5388d4237d07508a743aa09fe92c58_styler(feature) {\n",
       "            switch(feature.id) {\n",
       "                default:\n",
       "                    return {&quot;color&quot;: &quot;red&quot;, &quot;fillColor&quot;: &quot;red&quot;, &quot;fillOpacity&quot;: 0.5, &quot;weight&quot;: 2};\n",
       "            }\n",
       "        }\n",
       "        function geo_json_dc5388d4237d07508a743aa09fe92c58_highlighter(feature) {\n",
       "            switch(feature.id) {\n",
       "                default:\n",
       "                    return {&quot;fillOpacity&quot;: 0.75};\n",
       "            }\n",
       "        }\n",
       "        function geo_json_dc5388d4237d07508a743aa09fe92c58_pointToLayer(feature, latlng) {\n",
       "            var opts = {&quot;bubblingMouseEvents&quot;: true, &quot;color&quot;: &quot;#3388ff&quot;, &quot;dashArray&quot;: null, &quot;dashOffset&quot;: null, &quot;fill&quot;: true, &quot;fillColor&quot;: &quot;#3388ff&quot;, &quot;fillOpacity&quot;: 0.2, &quot;fillRule&quot;: &quot;evenodd&quot;, &quot;lineCap&quot;: &quot;round&quot;, &quot;lineJoin&quot;: &quot;round&quot;, &quot;opacity&quot;: 1.0, &quot;radius&quot;: 2, &quot;stroke&quot;: true, &quot;weight&quot;: 3};\n",
       "            \n",
       "            let style = geo_json_dc5388d4237d07508a743aa09fe92c58_styler(feature)\n",
       "            Object.assign(opts, style)\n",
       "            \n",
       "            return new L.CircleMarker(latlng, opts)\n",
       "        }\n",
       "\n",
       "        function geo_json_dc5388d4237d07508a743aa09fe92c58_onEachFeature(feature, layer) {\n",
       "            layer.on({\n",
       "                mouseout: function(e) {\n",
       "                    if(typeof e.target.setStyle === &quot;function&quot;){\n",
       "                        geo_json_dc5388d4237d07508a743aa09fe92c58.resetStyle(e.target);\n",
       "                    }\n",
       "                },\n",
       "                mouseover: function(e) {\n",
       "                    if(typeof e.target.setStyle === &quot;function&quot;){\n",
       "                        const highlightStyle = geo_json_dc5388d4237d07508a743aa09fe92c58_highlighter(e.target.feature)\n",
       "                        e.target.setStyle(highlightStyle);\n",
       "                    }\n",
       "                },\n",
       "            });\n",
       "        };\n",
       "        var geo_json_dc5388d4237d07508a743aa09fe92c58 = L.geoJson(null, {\n",
       "                onEachFeature: geo_json_dc5388d4237d07508a743aa09fe92c58_onEachFeature,\n",
       "            \n",
       "                style: geo_json_dc5388d4237d07508a743aa09fe92c58_styler,\n",
       "                pointToLayer: geo_json_dc5388d4237d07508a743aa09fe92c58_pointToLayer\n",
       "        });\n",
       "\n",
       "        function geo_json_dc5388d4237d07508a743aa09fe92c58_add (data) {\n",
       "            geo_json_dc5388d4237d07508a743aa09fe92c58\n",
       "                .addData(data)\n",
       "                .addTo(map_5cc870b0e24d6052f12bb8dffc72ec7b);\n",
       "        }\n",
       "            geo_json_dc5388d4237d07508a743aa09fe92c58_add({&quot;bbox&quot;: [115.92337036132812, -43.0, 153.0264892578125, -12.701499938964844], &quot;features&quot;: [{&quot;bbox&quot;: [153.0264892578125, -27.45391273498535, 153.0264892578125, -27.45391273498535], &quot;geometry&quot;: {&quot;coordinates&quot;: [153.0264892578125, -27.45391273498535], &quot;type&quot;: &quot;Point&quot;}, &quot;id&quot;: &quot;283&quot;, &quot;properties&quot;: {&quot;CAPITAL&quot;: &quot;N&quot;, &quot;COUNTRY&quot;: &quot;Australia&quot;, &quot;NAME&quot;: &quot;Brisbane&quot;, &quot;__folium_color&quot;: &quot;red&quot;}, &quot;type&quot;: &quot;Feature&quot;}, {&quot;bbox&quot;: [151.0281982421875, -33.889774322509766, 151.0281982421875, -33.889774322509766], &quot;geometry&quot;: {&quot;coordinates&quot;: [151.0281982421875, -33.889774322509766], &quot;type&quot;: &quot;Point&quot;}, &quot;id&quot;: &quot;292&quot;, &quot;properties&quot;: {&quot;CAPITAL&quot;: &quot;N&quot;, &quot;COUNTRY&quot;: &quot;Australia&quot;, &quot;NAME&quot;: &quot;Sydney&quot;, &quot;__folium_color&quot;: &quot;red&quot;}, &quot;type&quot;: &quot;Feature&quot;}, {&quot;bbox&quot;: [149.0416259765625, -35.34992599487305, 149.0416259765625, -35.34992599487305], &quot;geometry&quot;: {&quot;coordinates&quot;: [149.0416259765625, -35.34992599487305], &quot;type&quot;: &quot;Point&quot;}, &quot;id&quot;: &quot;294&quot;, &quot;properties&quot;: {&quot;CAPITAL&quot;: &quot;Y&quot;, &quot;COUNTRY&quot;: &quot;Australia&quot;, &quot;NAME&quot;: &quot;Canberra&quot;, &quot;__folium_color&quot;: &quot;red&quot;}, &quot;type&quot;: &quot;Feature&quot;}, {&quot;bbox&quot;: [145.07510375976562, -37.85295867919922, 145.07510375976562, -37.85295867919922], &quot;geometry&quot;: {&quot;coordinates&quot;: [145.07510375976562, -37.85295867919922], &quot;type&quot;: &quot;Point&quot;}, &quot;id&quot;: &quot;296&quot;, &quot;properties&quot;: {&quot;CAPITAL&quot;: &quot;N&quot;, &quot;COUNTRY&quot;: &quot;Australia&quot;, &quot;NAME&quot;: &quot;Melbourne&quot;, &quot;__folium_color&quot;: &quot;red&quot;}, &quot;type&quot;: &quot;Feature&quot;}, {&quot;bbox&quot;: [138.8706817626953, -34.91853713989258, 138.8706817626953, -34.91853713989258], &quot;geometry&quot;: {&quot;coordinates&quot;: [138.8706817626953, -34.91853713989258], &quot;type&quot;: &quot;Point&quot;}, &quot;id&quot;: &quot;314&quot;, &quot;properties&quot;: {&quot;CAPITAL&quot;: &quot;N&quot;, &quot;COUNTRY&quot;: &quot;Australia&quot;, &quot;NAME&quot;: &quot;Adelaide&quot;, &quot;__folium_color&quot;: &quot;red&quot;}, &quot;type&quot;: &quot;Feature&quot;}, {&quot;bbox&quot;: [133.92999267578125, -23.6299991607666, 133.92999267578125, -23.6299991607666], &quot;geometry&quot;: {&quot;coordinates&quot;: [133.92999267578125, -23.6299991607666], &quot;type&quot;: &quot;Point&quot;}, &quot;id&quot;: &quot;365&quot;, &quot;properties&quot;: {&quot;CAPITAL&quot;: &quot;N&quot;, &quot;COUNTRY&quot;: &quot;Australia&quot;, &quot;NAME&quot;: &quot;Alice Springs&quot;, &quot;__folium_color&quot;: &quot;red&quot;}, &quot;type&quot;: &quot;Feature&quot;}, {&quot;bbox&quot;: [145.7100067138672, -16.850000381469727, 145.7100067138672, -16.850000381469727], &quot;geometry&quot;: {&quot;coordinates&quot;: [145.7100067138672, -16.850000381469727], &quot;type&quot;: &quot;Point&quot;}, &quot;id&quot;: &quot;366&quot;, &quot;properties&quot;: {&quot;CAPITAL&quot;: &quot;N&quot;, &quot;COUNTRY&quot;: &quot;Australia&quot;, &quot;NAME&quot;: &quot;Cairns&quot;, &quot;__folium_color&quot;: &quot;red&quot;}, &quot;type&quot;: &quot;Feature&quot;}, {&quot;bbox&quot;: [146.8300018310547, -19.299999237060547, 146.8300018310547, -19.299999237060547], &quot;geometry&quot;: {&quot;coordinates&quot;: [146.8300018310547, -19.299999237060547], &quot;type&quot;: &quot;Point&quot;}, &quot;id&quot;: &quot;367&quot;, &quot;properties&quot;: {&quot;CAPITAL&quot;: &quot;N&quot;, &quot;COUNTRY&quot;: &quot;Australia&quot;, &quot;NAME&quot;: &quot;Townsville&quot;, &quot;__folium_color&quot;: &quot;red&quot;}, &quot;type&quot;: &quot;Feature&quot;}, {&quot;bbox&quot;: [150.47999572753906, -23.43000030517578, 150.47999572753906, -23.43000030517578], &quot;geometry&quot;: {&quot;coordinates&quot;: [150.47999572753906, -23.43000030517578], &quot;type&quot;: &quot;Point&quot;}, &quot;id&quot;: &quot;368&quot;, &quot;properties&quot;: {&quot;CAPITAL&quot;: &quot;N&quot;, &quot;COUNTRY&quot;: &quot;Australia&quot;, &quot;NAME&quot;: &quot;Rockhampton&quot;, &quot;__folium_color&quot;: &quot;red&quot;}, &quot;type&quot;: &quot;Feature&quot;}, {&quot;bbox&quot;: [151.91000366210938, -33.0, 151.91000366210938, -33.0], &quot;geometry&quot;: {&quot;coordinates&quot;: [151.91000366210938, -33.0], &quot;type&quot;: &quot;Point&quot;}, &quot;id&quot;: &quot;369&quot;, &quot;properties&quot;: {&quot;CAPITAL&quot;: &quot;N&quot;, &quot;COUNTRY&quot;: &quot;Australia&quot;, &quot;NAME&quot;: &quot;Newcastle&quot;, &quot;__folium_color&quot;: &quot;red&quot;}, &quot;type&quot;: &quot;Feature&quot;}, {&quot;bbox&quot;: [147.5, -43.0, 147.5, -43.0], &quot;geometry&quot;: {&quot;coordinates&quot;: [147.5, -43.0], &quot;type&quot;: &quot;Point&quot;}, &quot;id&quot;: &quot;370&quot;, &quot;properties&quot;: {&quot;CAPITAL&quot;: &quot;N&quot;, &quot;COUNTRY&quot;: &quot;Australia&quot;, &quot;NAME&quot;: &quot;Hobart&quot;, &quot;__folium_color&quot;: &quot;red&quot;}, &quot;type&quot;: &quot;Feature&quot;}, {&quot;bbox&quot;: [133.22000122070312, -15.75, 133.22000122070312, -15.75], &quot;geometry&quot;: {&quot;coordinates&quot;: [133.22000122070312, -15.75], &quot;type&quot;: &quot;Point&quot;}, &quot;id&quot;: &quot;420&quot;, &quot;properties&quot;: {&quot;CAPITAL&quot;: &quot;N&quot;, &quot;COUNTRY&quot;: &quot;Australia&quot;, &quot;NAME&quot;: &quot;Birdum&quot;, &quot;__folium_color&quot;: &quot;red&quot;}, &quot;type&quot;: &quot;Feature&quot;}, {&quot;bbox&quot;: [130.9945526123047, -12.701499938964844, 130.9945526123047, -12.701499938964844], &quot;geometry&quot;: {&quot;coordinates&quot;: [130.9945526123047, -12.701499938964844], &quot;type&quot;: &quot;Point&quot;}, &quot;id&quot;: &quot;428&quot;, &quot;properties&quot;: {&quot;CAPITAL&quot;: &quot;N&quot;, &quot;COUNTRY&quot;: &quot;Australia&quot;, &quot;NAME&quot;: &quot;Darwin&quot;, &quot;__folium_color&quot;: &quot;red&quot;}, &quot;type&quot;: &quot;Feature&quot;}, {&quot;bbox&quot;: [115.9345703125, -32.044166564941406, 115.9345703125, -32.044166564941406], &quot;geometry&quot;: {&quot;coordinates&quot;: [115.9345703125, -32.044166564941406], &quot;type&quot;: &quot;Point&quot;}, &quot;id&quot;: &quot;430&quot;, &quot;properties&quot;: {&quot;CAPITAL&quot;: &quot;N&quot;, &quot;COUNTRY&quot;: &quot;Australia&quot;, &quot;NAME&quot;: &quot;Fremantle&quot;, &quot;__folium_color&quot;: &quot;red&quot;}, &quot;type&quot;: &quot;Feature&quot;}, {&quot;bbox&quot;: [115.92337036132812, -31.97586441040039, 115.92337036132812, -31.97586441040039], &quot;geometry&quot;: {&quot;coordinates&quot;: [115.92337036132812, -31.97586441040039], &quot;type&quot;: &quot;Point&quot;}, &quot;id&quot;: &quot;559&quot;, &quot;properties&quot;: {&quot;CAPITAL&quot;: &quot;N&quot;, &quot;COUNTRY&quot;: &quot;Australia&quot;, &quot;NAME&quot;: &quot;Perth&quot;, &quot;__folium_color&quot;: &quot;red&quot;}, &quot;type&quot;: &quot;Feature&quot;}], &quot;type&quot;: &quot;FeatureCollection&quot;});\n",
       "\n",
       "        \n",
       "    \n",
       "    geo_json_dc5388d4237d07508a743aa09fe92c58.bindTooltip(\n",
       "    function(layer){\n",
       "    let div = L.DomUtil.create(&#x27;div&#x27;);\n",
       "    \n",
       "    let handleObject = feature=&gt;typeof(feature)==&#x27;object&#x27; ? JSON.stringify(feature) : feature;\n",
       "    let fields = [&quot;NAME&quot;, &quot;COUNTRY&quot;, &quot;CAPITAL&quot;];\n",
       "    let aliases = [&quot;NAME&quot;, &quot;COUNTRY&quot;, &quot;CAPITAL&quot;];\n",
       "    let table = &#x27;&lt;table&gt;&#x27; +\n",
       "        String(\n",
       "        fields.map(\n",
       "        (v,i)=&gt;\n",
       "        `&lt;tr&gt;\n",
       "            &lt;th&gt;${aliases[i]}&lt;/th&gt;\n",
       "            \n",
       "            &lt;td&gt;${handleObject(layer.feature.properties[v])}&lt;/td&gt;\n",
       "        &lt;/tr&gt;`).join(&#x27;&#x27;))\n",
       "    +&#x27;&lt;/table&gt;&#x27;;\n",
       "    div.innerHTML=table;\n",
       "    \n",
       "    return div\n",
       "    }\n",
       "    ,{&quot;className&quot;: &quot;foliumtooltip&quot;, &quot;sticky&quot;: true});\n",
       "                     \n",
       "    \n",
       "        function geo_json_1fae15da0ade6cce1ee50b2abe817a31_styler(feature) {\n",
       "            switch(feature.id) {\n",
       "                default:\n",
       "                    return {&quot;color&quot;: &quot;blue&quot;, &quot;fillColor&quot;: &quot;blue&quot;, &quot;fillOpacity&quot;: 0.5, &quot;weight&quot;: 2};\n",
       "            }\n",
       "        }\n",
       "        function geo_json_1fae15da0ade6cce1ee50b2abe817a31_highlighter(feature) {\n",
       "            switch(feature.id) {\n",
       "                default:\n",
       "                    return {&quot;fillOpacity&quot;: 0.75};\n",
       "            }\n",
       "        }\n",
       "        function geo_json_1fae15da0ade6cce1ee50b2abe817a31_pointToLayer(feature, latlng) {\n",
       "            var opts = {&quot;bubblingMouseEvents&quot;: true, &quot;color&quot;: &quot;#3388ff&quot;, &quot;dashArray&quot;: null, &quot;dashOffset&quot;: null, &quot;fill&quot;: true, &quot;fillColor&quot;: &quot;#3388ff&quot;, &quot;fillOpacity&quot;: 0.2, &quot;fillRule&quot;: &quot;evenodd&quot;, &quot;lineCap&quot;: &quot;round&quot;, &quot;lineJoin&quot;: &quot;round&quot;, &quot;opacity&quot;: 1.0, &quot;radius&quot;: 2, &quot;stroke&quot;: true, &quot;weight&quot;: 3};\n",
       "            \n",
       "            let style = geo_json_1fae15da0ade6cce1ee50b2abe817a31_styler(feature)\n",
       "            Object.assign(opts, style)\n",
       "            \n",
       "            return new L.CircleMarker(latlng, opts)\n",
       "        }\n",
       "\n",
       "        function geo_json_1fae15da0ade6cce1ee50b2abe817a31_onEachFeature(feature, layer) {\n",
       "            layer.on({\n",
       "                mouseout: function(e) {\n",
       "                    if(typeof e.target.setStyle === &quot;function&quot;){\n",
       "                        geo_json_1fae15da0ade6cce1ee50b2abe817a31.resetStyle(e.target);\n",
       "                    }\n",
       "                },\n",
       "                mouseover: function(e) {\n",
       "                    if(typeof e.target.setStyle === &quot;function&quot;){\n",
       "                        const highlightStyle = geo_json_1fae15da0ade6cce1ee50b2abe817a31_highlighter(e.target.feature)\n",
       "                        e.target.setStyle(highlightStyle);\n",
       "                    }\n",
       "                },\n",
       "            });\n",
       "        };\n",
       "        var geo_json_1fae15da0ade6cce1ee50b2abe817a31 = L.geoJson(null, {\n",
       "                onEachFeature: geo_json_1fae15da0ade6cce1ee50b2abe817a31_onEachFeature,\n",
       "            \n",
       "                style: geo_json_1fae15da0ade6cce1ee50b2abe817a31_styler,\n",
       "                pointToLayer: geo_json_1fae15da0ade6cce1ee50b2abe817a31_pointToLayer\n",
       "        });\n",
       "\n",
       "        function geo_json_1fae15da0ade6cce1ee50b2abe817a31_add (data) {\n",
       "            geo_json_1fae15da0ade6cce1ee50b2abe817a31\n",
       "                .addData(data)\n",
       "                .addTo(map_5cc870b0e24d6052f12bb8dffc72ec7b);\n",
       "        }\n",
       "            geo_json_1fae15da0ade6cce1ee50b2abe817a31_add({&quot;bbox&quot;: [139.36590115883362, -36.904354095458984, 148.4215087890625, -24.759353637695312], &quot;features&quot;: [{&quot;bbox&quot;: [139.36590115883362, -36.904354095458984, 148.4215087890625, -33.92324447631836], &quot;geometry&quot;: {&quot;coordinates&quot;: [[[142.13339233398438, -34.05717086791992], [141.75680541992188, -34.15851974487305], [141.15625, -33.92324447631836], [140.76986694335938, -34.39407730102539], [140.55123901367188, -34.11324691772461], [139.89791870117188, -33.96296310424805], [139.87957763671875, -34.59685134887695], [139.75234985351562, -34.68130111694336], [139.85208129882812, -34.817684173583984], [139.47207641601562, -34.90657424926758], [139.67068481445312, -35.20796585083008], [139.36590115883362, -35.55215032347665]], [[142.13339233398438, -34.05717086791992], [142.6029052734375, -34.2729606628418], [142.75320434570312, -34.70768356323242], [143.00125122070312, -34.52212905883789], [143.55679321289062, -34.7293586730957], [143.62542724609375, -35.12796401977539], [144.94207763671875, -36.0671272277832], [145.19094848632812, -36.02962875366211], [145.20260620117188, -35.81046676635742], [145.73873901367188, -35.76185989379883], [146.02484130859375, -35.92824172973633], [147.14596557617188, -36.05852127075195], [147.71401977539062, -35.88407516479492], [148.21542358398438, -35.99740982055664], [148.4215087890625, -36.55490493774414], [148.208740234375, -36.904354095458984]]], &quot;type&quot;: &quot;MultiLineString&quot;}, &quot;id&quot;: &quot;44&quot;, &quot;properties&quot;: {&quot;NAME&quot;: &quot;Murray&quot;, &quot;SYSTEM&quot;: null, &quot;__folium_color&quot;: &quot;blue&quot;}, &quot;type&quot;: &quot;Feature&quot;}, {&quot;bbox&quot;: [142.13339233398438, -34.05717086791992, 147.99319458007812, -24.759353637695312], &quot;geometry&quot;: {&quot;coordinates&quot;: [[142.13339233398438, -34.05717086791992], [142.20706176757812, -33.78824234008789], [142.61956787109375, -33.62546157836914], [142.7984619140625, -33.37740707397461], [142.51596069335938, -33.138797760009766], [142.60848999023438, -32.34768295288086], [143.18789672851562, -32.037410736083984], [143.60153198242188, -31.500465393066406], [144.15069580078125, -31.359352111816406], [144.244873046875, -31.142684936523438], [145.54733276367188, -30.35018539428711], [145.65097045898438, -29.717411041259766], [146.05596923828125, -29.30213165283203], [145.82290649414062, -28.624908447265625], [145.97708129882812, -28.447132110595703], [145.8992919921875, -27.81546401977539], [146.16180419921875, -26.93935775756836], [146.8487548828125, -25.644630432128906], [147.29122924804688, -25.349632263183594], [147.412353515625, -25.03463363647461], [147.99319458007812, -24.759353637695312]], &quot;type&quot;: &quot;LineString&quot;}, &quot;id&quot;: &quot;15&quot;, &quot;properties&quot;: {&quot;NAME&quot;: &quot;Darling&quot;, &quot;SYSTEM&quot;: null, &quot;__folium_color&quot;: &quot;blue&quot;}, &quot;type&quot;: &quot;Feature&quot;}], &quot;type&quot;: &quot;FeatureCollection&quot;});\n",
       "\n",
       "        \n",
       "    \n",
       "    geo_json_1fae15da0ade6cce1ee50b2abe817a31.bindTooltip(\n",
       "    function(layer){\n",
       "    let div = L.DomUtil.create(&#x27;div&#x27;);\n",
       "    \n",
       "    let handleObject = feature=&gt;typeof(feature)==&#x27;object&#x27; ? JSON.stringify(feature) : feature;\n",
       "    let fields = [&quot;NAME&quot;, &quot;SYSTEM&quot;];\n",
       "    let aliases = [&quot;NAME&quot;, &quot;SYSTEM&quot;];\n",
       "    let table = &#x27;&lt;table&gt;&#x27; +\n",
       "        String(\n",
       "        fields.map(\n",
       "        (v,i)=&gt;\n",
       "        `&lt;tr&gt;\n",
       "            &lt;th&gt;${aliases[i]}&lt;/th&gt;\n",
       "            \n",
       "            &lt;td&gt;${handleObject(layer.feature.properties[v])}&lt;/td&gt;\n",
       "        &lt;/tr&gt;`).join(&#x27;&#x27;))\n",
       "    +&#x27;&lt;/table&gt;&#x27;;\n",
       "    div.innerHTML=table;\n",
       "    \n",
       "    return div\n",
       "    }\n",
       "    ,{&quot;className&quot;: &quot;foliumtooltip&quot;, &quot;sticky&quot;: true});\n",
       "                     \n",
       "&lt;/script&gt;\n",
       "&lt;/html&gt;\" style=\"position:absolute;width:100%;height:100%;left:0;top:0;border:none !important;\" allowfullscreen webkitallowfullscreen mozallowfullscreen></iframe></div></div>"
      ],
      "text/plain": [
       "<folium.folium.Map at 0x298fe7c9390>"
      ]
     },
     "execution_count": 14,
     "metadata": {},
     "output_type": "execute_result"
    }
   ],
   "source": [
    "m = cities_australia.explore(location=australiaCoord,\n",
    "                   zoom_start=4,\n",
    "                   tiles='CartoDB positron',\n",
    "                   color='red',\n",
    "                   name=\"cities\") #optional\n",
    "m = rivers_australia.explore(m=m, color=\"blue\",\n",
    "                   name=\"rivers\")#optional\n",
    "# folium.LayerControl().add_to(m) #optional\n",
    "m"
   ]
  },
  {
   "cell_type": "markdown",
   "id": "1ed24a9c",
   "metadata": {},
   "source": [
    "## (Re) Projecting\n",
    "As mentioned in class, the CRS is a very important property of the maps. They affect three aspects:\n",
    "\n",
    "* shape\n",
    "* area\n",
    "* scale\n",
    "* direction\n",
    "\n",
    "The most used CRS is 4326, but it is **not projected**:"
   ]
  },
  {
   "cell_type": "code",
   "execution_count": 16,
   "id": "fc2c5d41",
   "metadata": {},
   "outputs": [
    {
     "data": {
      "text/plain": [
       "[Axis(name=Geodetic latitude, abbrev=Lat, direction=north, unit_auth_code=EPSG, unit_code=9122, unit_name=degree),\n",
       " Axis(name=Geodetic longitude, abbrev=Lon, direction=east, unit_auth_code=EPSG, unit_code=9122, unit_name=degree)]"
      ]
     },
     "execution_count": 16,
     "metadata": {},
     "output_type": "execute_result"
    }
   ],
   "source": [
    "# unit is in degrees\n",
    "australia.crs.axis_info"
   ]
  },
  {
   "cell_type": "code",
   "execution_count": 17,
   "id": "bb06fd8d",
   "metadata": {},
   "outputs": [
    {
     "name": "stderr",
     "output_type": "stream",
     "text": [
      "C:\\Users\\Anali\\AppData\\Local\\Temp\\ipykernel_11088\\2947951092.py:2: UserWarning: Geometry is in a geographic CRS. Results from 'centroid' are likely incorrect. Use 'GeoSeries.to_crs()' to re-project geometries to a projected CRS before this operation.\n",
      "\n",
      "  australia.centroid\n"
     ]
    },
    {
     "data": {
      "text/plain": [
       "11    POINT (134.48956 -25.73497)\n",
       "dtype: geometry"
      ]
     },
     "execution_count": 17,
     "metadata": {},
     "output_type": "execute_result"
    }
   ],
   "source": [
    "# centroid\n",
    "australia.centroid"
   ]
  },
  {
   "cell_type": "markdown",
   "id": "8bcdacaf",
   "metadata": {},
   "source": [
    "A projected CRS will have units in meters or feet (or similar). The CRS per country can be found here: https://epsg.io"
   ]
  },
  {
   "cell_type": "code",
   "execution_count": 18,
   "id": "86fbaac6",
   "metadata": {},
   "outputs": [
    {
     "data": {
      "text/plain": [
       "[Axis(name=Easting, abbrev=E, direction=east, unit_auth_code=EPSG, unit_code=9001, unit_name=metre),\n",
       " Axis(name=Northing, abbrev=N, direction=north, unit_auth_code=EPSG, unit_code=9001, unit_name=metre)]"
      ]
     },
     "execution_count": 18,
     "metadata": {},
     "output_type": "execute_result"
    }
   ],
   "source": [
    "# recommended for Australia (meters)\n",
    "australia.to_crs(3112).crs.axis_info"
   ]
  },
  {
   "cell_type": "code",
   "execution_count": 19,
   "id": "aa129cbb",
   "metadata": {},
   "outputs": [
    {
     "data": {
      "text/plain": [
       "11    POINT (32199.226 -2924192.688)\n",
       "dtype: geometry"
      ]
     },
     "execution_count": 19,
     "metadata": {},
     "output_type": "execute_result"
    }
   ],
   "source": [
    "# this works with no warning\n",
    "australia.to_crs(3112).centroid"
   ]
  },
  {
   "cell_type": "code",
   "execution_count": 20,
   "id": "636ca57b",
   "metadata": {},
   "outputs": [
    {
     "data": {
      "text/plain": [
       "<Axes: >"
      ]
     },
     "execution_count": 20,
     "metadata": {},
     "output_type": "execute_result"
    },
    {
     "data": {
      "image/png": "[encoded data removed]",
      "text/plain": [
       "<Figure size 640x480 with 1 Axes>"
      ]
     },
     "metadata": {},
     "output_type": "display_data"
    }
   ],
   "source": [
    "# replotting: \n",
    "\n",
    "base3112=australia.to_crs(3112).plot()\n",
    "australia.to_crs(3112).centroid.plot(color='red',ax=base3112)"
   ]
  },
  {
   "cell_type": "markdown",
   "id": "add7e8a7",
   "metadata": {},
   "source": [
    "Not using the right projection will give you a wrong numerical result when needing numerical accuracy; however, you might find situation where the visual output seems right (yet it is wrong). Then, Let's keep the projected version for all our maps:"
   ]
  },
  {
   "cell_type": "code",
   "execution_count": 21,
   "id": "3c15fa65",
   "metadata": {},
   "outputs": [],
   "source": [
    "australia_3112=australia.to_crs(3112)\n",
    "# just Australia\n",
    "\n",
    "cities_australia=cities[cities.COUNTRY=='Australia']\n",
    "cities_3112=cities_australia.to_crs(australia_3112.crs)\n",
    "\n",
    "rivers_3112=rivers.to_crs(australia_3112.crs)\n",
    "rivers_3112=gpd.clip(gdf=rivers_3112,mask=australia_3112)"
   ]
  },
  {
   "cell_type": "markdown",
   "id": "585034cb",
   "metadata": {},
   "source": [
    "The plot again: "
   ]
  },
  {
   "cell_type": "code",
   "execution_count": 22,
   "id": "4263dce2",
   "metadata": {},
   "outputs": [
    {
     "data": {
      "text/plain": [
       "<Axes: >"
      ]
     },
     "execution_count": 22,
     "metadata": {},
     "output_type": "execute_result"
    },
    {
     "data": {
      "image/png": "[encoded data removed]",
      "text/plain": [
       "<Figure size 500x500 with 1 Axes>"
      ]
     },
     "metadata": {},
     "output_type": "display_data"
    }
   ],
   "source": [
    "base = australia_3112.plot(facecolor=\"pink\", edgecolor='black', linewidth=0.4,figsize=(5,5))\n",
    "cities_3112.plot(marker='+', color='red', markersize=15,ax=base)\n",
    "rivers_3112.plot(edgecolor='blue', linewidth=0.5,ax=base)"
   ]
  },
  {
   "cell_type": "markdown",
   "id": "04f0894a",
   "metadata": {},
   "source": [
    "## Exporting maps\n",
    "You may need a couple of things here:\n",
    "\n",
    "- Save the map as an image.\n",
    "- Save the files (not the images).\n",
    "\n",
    "Let's see:"
   ]
  },
  {
   "cell_type": "code",
   "execution_count": 23,
   "id": "4ba39db9",
   "metadata": {},
   "outputs": [
    {
     "data": {
      "image/png": "[encoded data removed]",
      "text/plain": [
       "<Figure size 500x500 with 1 Axes>"
      ]
     },
     "metadata": {},
     "output_type": "display_data"
    }
   ],
   "source": [
    "# save the map as image\n",
    "import matplotlib.pyplot as plt\n",
    "\n",
    "base = australia_3112.plot(facecolor=\"pink\", edgecolor='black', linewidth=0.4,figsize=(5,5))\n",
    "map2=cities_3112.plot(marker='+', color='red', markersize=15,ax=base)\n",
    "mapAustralia=rivers_3112.plot(edgecolor='blue', linewidth=0.5,ax=base)\n",
    "plt.savefig(os.path.join(\"figures\",'mapAustralia.jpg'))"
   ]
  },
  {
   "cell_type": "code",
   "execution_count": null,
   "id": "159c8fd2",
   "metadata": {},
   "outputs": [],
   "source": [
    "# saving\n",
    "australia_312.to_file(os.path.join(\"maps\",\"australia_312\",\"australiaMaps_5641.gpkg\"), layer='country', driver=\"GPKG\")\n",
    "cities_5641.to_file(os.path.join(\"maps\",\"brazil_5641\",\"brazilMaps_5641.gpkg\"), layer='cities', driver=\"GPKG\")\n",
    "rivers_5641.to_file(os.path.join(\"maps\",\"brazil_5641\",\"brazilMaps_5641.gpkg\"), layer='rivers', driver=\"GPKG\")"
   ]
  }
 ],
 "metadata": {
  "kernelspec": {
   "display_name": "Python 3 (ipykernel)",
   "language": "python",
   "name": "python3"
  },
  "language_info": {
   "codemirror_mode": {
    "name": "ipython",
    "version": 3
   },
   "file_extension": ".py",
   "mimetype": "text/x-python",
   "name": "python",
   "nbconvert_exporter": "python",
   "pygments_lexer": "ipython3",
   "version": "3.11.4"
  }
 },
 "nbformat": 4,
 "nbformat_minor": 5
}
